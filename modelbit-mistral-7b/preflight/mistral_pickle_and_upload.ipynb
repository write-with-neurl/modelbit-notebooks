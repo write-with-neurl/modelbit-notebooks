{
  "cells": [
    {
      "cell_type": "markdown",
      "metadata": {
        "id": "X6iRbr_-X0me"
      },
      "source": [
        "# 🥒 Pickle Mistral and Upload to Modelbit"
      ]
    },
    {
      "cell_type": "markdown",
      "metadata": {
        "id": "KsjUloMuWk4t"
      },
      "source": [
        "## 💽 Install Prerequisites\n",
        "Install necessary requirements before `pickle`. Make sure to restart your Colab instance/runtime after installation."
      ]
    },
    {
      "cell_type": "code",
      "execution_count": null,
      "metadata": {
        "id": "H-MQb7zfAY3b"
      },
      "outputs": [],
      "source": [
        "!pip3 install modelbit protobuf==3.20 accelerate==0.25.0 bitsandbytes==0.41.3.post2 transformers==4.36.2 scipy==1.11.4 torch==2.1.0 cloudpickle==3.0.0"
      ]
    },
    {
      "cell_type": "markdown",
      "metadata": {
        "id": "OTkge5QHWxze"
      },
      "source": [
        "## 📤 Export Model\n",
        "Load the model."
      ]
    },
    {
      "cell_type": "code",
      "execution_count": null,
      "metadata": {
        "id": "gJKxZyeh-Z0e"
      },
      "outputs": [],
      "source": [
        "import torch\n",
        "import cloudpickle\n",
        "from transformers import AutoModelForCausalLM, AutoTokenizer, BitsAndBytesConfig, pipeline\n",
        "\n",
        "device = \"cuda\"\n",
        "\n",
        "# INT4\n",
        "bnb_config = BitsAndBytesConfig(\n",
        "    load_in_4bit=True,\n",
        "    bnb_4bit_quant_type=\"nf4\",\n",
        "    bnb_4bit_use_double_quant=True,\n",
        ")\n",
        "\n",
        "# INT8\n",
        "# bnb_config = BitsAndBytesConfig(\n",
        "#     load_in_8bit=True,\n",
        "#     bnb_8bit_quant_type=\"nf8\",\n",
        "#     bnb_8bit_use_double_quant=True,\n",
        "# )\n",
        "\n",
        "# Take out `load_in_4bit` and `quantization_config` for FP16.\n",
        "model = AutoModelForCausalLM.from_pretrained(\n",
        "    \"mistralai/Mistral-7B-Instruct-v0.1\",\n",
        "    load_in_4bit=True,\n",
        "    quantization_config=bnb_config,\n",
        "    torch_dtype=torch.bfloat16,\n",
        "    device_map=\"auto\",\n",
        "    trust_remote_code=True,\n",
        ")\n",
        "\n",
        "tokenizer = AutoTokenizer.from_pretrained(\"mistralai/Mistral-7B-Instruct-v0.1\")\n",
        "\n",
        "pipe = pipeline(\n",
        "    \"text-generation\",\n",
        "    model=model,\n",
        "    tokenizer = tokenizer,\n",
        "    torch_dtype=torch.bfloat16,\n",
        "    device_map=\"auto\"\n",
        ")\n"
      ]
    },
    {
      "cell_type": "markdown",
      "metadata": {
        "id": "UIeBHj48WesI"
      },
      "source": [
        "Feel free to rename the `.pkl` prior to running the export cell."
      ]
    },
    {
      "cell_type": "code",
      "execution_count": null,
      "metadata": {
        "id": "2QXKqjtwOvtC"
      },
      "outputs": [],
      "source": [
        "with open('pipe-int4.pkl', 'wb') as file:\n",
        "    cloudpickle.dump(pipe, file)"
      ]
    },
    {
      "cell_type": "markdown",
      "metadata": {
        "id": "X2Vph23lW4MU"
      },
      "source": [
        "## 📦Upload to Modelbit\n",
        "Authenticate to Modelbit."
      ]
    },
    {
      "cell_type": "code",
      "execution_count": null,
      "metadata": {
        "id": "E85DQIjO-h0A"
      },
      "outputs": [],
      "source": [
        "import modelbit as mb\n",
        "\n",
        "mb.login()"
      ]
    },
    {
      "cell_type": "markdown",
      "metadata": {
        "id": "em5A1eVWXGDA"
      },
      "source": [
        "Upload to Modelbit.\n",
        "\n",
        "Note: This might take around ~10 minutes."
      ]
    },
    {
      "cell_type": "code",
      "execution_count": null,
      "metadata": {
        "id": "7IoA1WzBMZnw"
      },
      "outputs": [],
      "source": [
        "mb.add_files(\"mistral_prompt\", \"pipe-int4.pkl\")"
      ]
    }
  ],
  "metadata": {
    "accelerator": "GPU",
    "colab": {
      "gpuType": "T4",
      "provenance": []
    },
    "kernelspec": {
      "display_name": "Python 3",
      "name": "python3"
    },
    "language_info": {
      "name": "python"
    }
  },
  "nbformat": 4,
  "nbformat_minor": 0
}
