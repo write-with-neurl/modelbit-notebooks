{
  "cells": [
    {
      "cell_type": "markdown",
      "metadata": {
        "id": "X6iRbr_-X0me"
      },
      "source": [
        "# 🥒 Pickle Stable Video Diffusion and Upload to Modelbit"
      ]
    },
    {
      "cell_type": "markdown",
      "metadata": {
        "id": "KsjUloMuWk4t"
      },
      "source": [
        "## 💽 Install Prerequisites\n",
        "Install necessary requirements before `pickle`. Make sure to restart your Colab instance/runtime after installation."
      ]
    },
    {
      "cell_type": "code",
      "execution_count": null,
      "metadata": {
        "id": "H-MQb7zfAY3b"
      },
      "outputs": [],
      "source": [
        "!pip3 install modelbit protobuf==3.20 accelerate==0.25.0 diffusers==0.25.0 transformers==4.36.2 torch==2.1.0 cloudpickle==3.0.0"
      ]
    },
    {
      "cell_type": "markdown",
      "metadata": {
        "id": "OTkge5QHWxze"
      },
      "source": [
        "## 📤 Export Model\n",
        "Load the model."
      ]
    },
    {
      "cell_type": "code",
      "execution_count": null,
      "metadata": {
        "id": "gJKxZyeh-Z0e"
      },
      "outputs": [],
      "source": [
        "import torch\n",
        "import cloudpickle\n",
        "\n",
        "from diffusers import StableVideoDiffusionPipeline\n",
        "\n",
        "pipe = StableVideoDiffusionPipeline.from_pretrained(\n",
        "    \"stabilityai/stable-video-diffusion-img2vid-xt\", torch_dtype=torch.float16, variant=\"fp16\"\n",
        ")\n",
        "pipe.enable_model_cpu_offload()"
      ]
    },
    {
      "cell_type": "markdown",
      "metadata": {
        "id": "UIeBHj48WesI"
      },
      "source": [
        "Feel free to rename the `.pkl` prior to running the export cell."
      ]
    },
    {
      "cell_type": "code",
      "execution_count": null,
      "metadata": {
        "id": "2QXKqjtwOvtC"
      },
      "outputs": [],
      "source": [
        "with open('pipe-fp16.pkl', 'wb') as file:\n",
        "    cloudpickle.dump(pipe, file)"
      ]
    },
    {
      "cell_type": "markdown",
      "metadata": {
        "id": "X2Vph23lW4MU"
      },
      "source": [
        "## 📦Upload to Modelbit\n",
        "Authenticate to Modelbit."
      ]
    },
    {
      "cell_type": "code",
      "execution_count": null,
      "metadata": {
        "id": "E85DQIjO-h0A"
      },
      "outputs": [],
      "source": [
        "import modelbit as mb\n",
        "\n",
        "mb.login()"
      ]
    },
    {
      "cell_type": "markdown",
      "metadata": {
        "id": "em5A1eVWXGDA"
      },
      "source": [
        "Upload to Modelbit.\n",
        "\n",
        "Note: This might take around ~10 minutes. If your Colab instance crashes, follow the instructions in the next cell."
      ]
    },
    {
      "cell_type": "code",
      "execution_count": null,
      "metadata": {
        "id": "7IoA1WzBMZnw"
      },
      "outputs": [],
      "source": [
        "mb.add_files(\"svd\", \"pipe-fp16.pkl\")"
      ]
    },
    {
      "cell_type": "markdown",
      "metadata": {},
      "source": [
        "In the instance that adding files crashes your instance, we can extract the `.pkl` from Colab. From our experience, since the file is quite large, downloading the file directly from Colab will result in no download starting.\n",
        "\n",
        "To circumvent this, mount your Google Drive onto your Colab instance, and move the file to your Google Drive. Then, once your `.pkl` shows on Google Drive, download it. We can then use this file and manually upload it in our Modelbit deployment repo."
      ]
    },
    {
      "cell_type": "code",
      "execution_count": null,
      "metadata": {},
      "outputs": [],
      "source": [
        "import shutil\n",
        "from google.colab import drive\n",
        "\n",
        "drive.mount(\"/content/drive\")\n",
        "shutil.copy(\"pipe-fp16.pkl\", \"/content/drive/MyDrive\")"
      ]
    }
  ],
  "metadata": {
    "accelerator": "GPU",
    "colab": {
      "gpuType": "T4",
      "provenance": []
    },
    "kernelspec": {
      "display_name": "Python 3",
      "name": "python3"
    },
    "language_info": {
      "name": "python"
    }
  },
  "nbformat": 4,
  "nbformat_minor": 0
}
